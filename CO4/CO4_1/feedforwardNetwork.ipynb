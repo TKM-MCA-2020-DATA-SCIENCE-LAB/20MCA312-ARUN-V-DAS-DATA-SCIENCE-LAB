{
  "cells": [
    {
      "cell_type": "markdown",
      "source": [
        "*1.Programs on feedforward network to classify any standard dataset available in the \n",
        "public domain*"
      ],
      "metadata": {
        "id": "RIQcssiQe6dT"
      }
    },
    {
      "cell_type": "code",
      "execution_count": null,
      "metadata": {
        "id": "OlcPQwwBk37D"
      },
      "outputs": [],
      "source": [
        "import keras\n",
        "from keras.datasets import mnist\n",
        "from keras.models import Sequential\n",
        "from keras.layers import Dense\n",
        "from tensorflow.keras.optimizers import SGD\n",
        "from matplotlib import pyplot as plt"
      ]
    },
    {
      "cell_type": "markdown",
      "metadata": {
        "id": "-kF08k5fm13Y"
      },
      "source": [
        "Load Data"
      ]
    },
    {
      "cell_type": "code",
      "execution_count": null,
      "metadata": {
        "id": "TO7Tm8wbm1Vh"
      },
      "outputs": [],
      "source": [
        "(x_train,y_train),(x_valid,y_valid)=mnist.load_data()"
      ]
    },
    {
      "cell_type": "code",
      "execution_count": null,
      "metadata": {
        "colab": {
          "base_uri": "https://localhost:8080/"
        },
        "id": "4QGYBkkAnF-f",
        "outputId": "fa5f4853-9f11-44e8-aa01-38d83b3f3124"
      },
      "outputs": [
        {
          "output_type": "execute_result",
          "data": {
            "text/plain": [
              "numpy.ndarray"
            ]
          },
          "metadata": {},
          "execution_count": 48
        }
      ],
      "source": [
        "type(x_train)"
      ]
    },
    {
      "cell_type": "code",
      "execution_count": null,
      "metadata": {
        "colab": {
          "base_uri": "https://localhost:8080/"
        },
        "id": "uHekx5JznTWH",
        "outputId": "d06b6c7a-2c36-425e-e4a0-825cf9a4a993"
      },
      "outputs": [
        {
          "output_type": "execute_result",
          "data": {
            "text/plain": [
              "(60000, 28, 28)"
            ]
          },
          "metadata": {},
          "execution_count": 47
        }
      ],
      "source": [
        "x_train.shape"
      ]
    },
    {
      "cell_type": "code",
      "execution_count": null,
      "metadata": {
        "colab": {
          "base_uri": "https://localhost:8080/"
        },
        "id": "1jkOQk-enW53",
        "outputId": "5441e002-1e67-4405-f8dd-31892b96e668"
      },
      "outputs": [
        {
          "output_type": "execute_result",
          "data": {
            "text/plain": [
              "array([5, 0, 4, 1, 9, 2, 1, 3, 1, 4, 3, 5], dtype=uint8)"
            ]
          },
          "metadata": {},
          "execution_count": 49
        }
      ],
      "source": [
        "y_train[0:12]"
      ]
    },
    {
      "cell_type": "code",
      "execution_count": null,
      "metadata": {
        "colab": {
          "base_uri": "https://localhost:8080/",
          "height": 303
        },
        "id": "odr6Fsu6oNYP",
        "outputId": "c5035295-5e04-49ff-abd6-b37c86528862"
      },
      "outputs": [
        {
          "output_type": "display_data",
          "data": {
            "image/png": "[encoded data removed]",
            "text/plain": [
              "<Figure size 360x360 with 20 Axes>"
            ]
          },
          "metadata": {
            "needs_background": "light"
          }
        }
      ],
      "source": [
        "plt.figure(figsize=(5,5))\n",
        "for k in range(20):\n",
        "  plt.subplot(10,2,k+1)\n",
        "  plt.imshow(x_train[k],cmap='Greys')\n",
        "  plt.axis('off')\n",
        "plt.show()"
      ]
    },
    {
      "cell_type": "code",
      "execution_count": null,
      "metadata": {
        "colab": {
          "base_uri": "https://localhost:8080/",
          "height": 303
        },
        "id": "zsIz2PPNpHmP",
        "outputId": "19d40aa4-4565-4582-b745-656d93922fb4"
      },
      "outputs": [
        {
          "output_type": "display_data",
          "data": {
            "image/png": "[encoded data removed]",
            "text/plain": [
              "<Figure size 360x360 with 20 Axes>"
            ]
          },
          "metadata": {
            "needs_background": "light"
          }
        }
      ],
      "source": [
        "plt.figure(figsize=(5,5))\n",
        "for k in range(20):\n",
        "  plt.subplot(10,2,k+1)\n",
        "  plt.imshow(x_train[k],cmap='Greys_r')\n",
        "  plt.axis('off')\n",
        "plt.show()"
      ]
    },
    {
      "cell_type": "code",
      "execution_count": null,
      "metadata": {
        "colab": {
          "base_uri": "https://localhost:8080/",
          "height": 302
        },
        "id": "fuGacRaDnckH",
        "outputId": "f6e93ef7-dea0-41f0-ee1d-c94d44eecd66"
      },
      "outputs": [
        {
          "output_type": "execute_result",
          "data": {
            "text/plain": [
              "<matplotlib.image.AxesImage at 0x7f7e9673cdd0>"
            ]
          },
          "metadata": {},
          "execution_count": 52
        },
        {
          "output_type": "display_data",
          "data": {
            "image/png": "[encoded data removed]",
            "text/plain": [
              "<Figure size 432x288 with 1 Axes>"
            ]
          },
          "metadata": {
            "needs_background": "light"
          }
        }
      ],
      "source": [
        "plt.imshow(x_valid[0],cmap='Greys')"
      ]
    },
    {
      "cell_type": "code",
      "execution_count": null,
      "metadata": {
        "colab": {
          "base_uri": "https://localhost:8080/"
        },
        "id": "4st2T9ACptIG",
        "outputId": "9ba728e2-8c9f-4c77-ef8c-38e900fc7de5"
      },
      "outputs": [
        {
          "output_type": "execute_result",
          "data": {
            "text/plain": [
              "array([[  0,   0,   0,   0,   0,   0,   0,   0,   0,   0,   0,   0,   0,\n",
              "          0,   0,   0,   0,   0,   0,   0,   0,   0,   0,   0,   0,   0,\n",
              "          0,   0],\n",
              "       [  0,   0,   0,   0,   0,   0,   0,   0,   0,   0,   0,   0,   0,\n",
              "          0,   0,   0,   0,   0,   0,   0,   0,   0,   0,   0,   0,   0,\n",
              "          0,   0],\n",
              "       [  0,   0,   0,   0,   0,   0,   0,   0,   0,   0,   0,   0,   0,\n",
              "          0,   0,   0,   0,   0,   0,   0,   0,   0,   0,   0,   0,   0,\n",
              "          0,   0],\n",
              "       [  0,   0,   0,   0,   0,   0,   0,   0,   0,   0,   0,   0,   0,\n",
              "          0,   0,   0,   0,   0,   0,   0,   0,   0,   0,   0,   0,   0,\n",
              "          0,   0],\n",
              "       [  0,   0,   0,   0,   0,   0,   0,   0,   0,   0,   0,   0,   0,\n",
              "          0,   0,   0,   0,   0,   0,   0,   0,   0,   0,   0,   0,   0,\n",
              "          0,   0],\n",
              "       [  0,   0,   0,   0,   0,   0,   0,   0,   0,   0,   0,   0,   0,\n",
              "          0,   0,   0,   0,   0,   0,   0,   0,   0,   0,   0,   0,   0,\n",
              "          0,   0],\n",
              "       [  0,   0,   0,   0,   0,   0,   0,   0,   0,   0,   0,   0,   0,\n",
              "          0,   0,   0,   0,   0,   0,   0,   0,   0,   0,   0,   0,   0,\n",
              "          0,   0],\n",
              "       [  0,   0,   0,   0,   0,   0,  84, 185, 159, 151,  60,  36,   0,\n",
              "          0,   0,   0,   0,   0,   0,   0,   0,   0,   0,   0,   0,   0,\n",
              "          0,   0],\n",
              "       [  0,   0,   0,   0,   0,   0, 222, 254, 254, 254, 254, 241, 198,\n",
              "        198, 198, 198, 198, 198, 198, 198, 170,  52,   0,   0,   0,   0,\n",
              "          0,   0],\n",
              "       [  0,   0,   0,   0,   0,   0,  67, 114,  72, 114, 163, 227, 254,\n",
              "        225, 254, 254, 254, 250, 229, 254, 254, 140,   0,   0,   0,   0,\n",
              "          0,   0],\n",
              "       [  0,   0,   0,   0,   0,   0,   0,   0,   0,   0,   0,  17,  66,\n",
              "         14,  67,  67,  67,  59,  21, 236, 254, 106,   0,   0,   0,   0,\n",
              "          0,   0],\n",
              "       [  0,   0,   0,   0,   0,   0,   0,   0,   0,   0,   0,   0,   0,\n",
              "          0,   0,   0,   0,   0,  83, 253, 209,  18,   0,   0,   0,   0,\n",
              "          0,   0],\n",
              "       [  0,   0,   0,   0,   0,   0,   0,   0,   0,   0,   0,   0,   0,\n",
              "          0,   0,   0,   0,  22, 233, 255,  83,   0,   0,   0,   0,   0,\n",
              "          0,   0],\n",
              "       [  0,   0,   0,   0,   0,   0,   0,   0,   0,   0,   0,   0,   0,\n",
              "          0,   0,   0,   0, 129, 254, 238,  44,   0,   0,   0,   0,   0,\n",
              "          0,   0],\n",
              "       [  0,   0,   0,   0,   0,   0,   0,   0,   0,   0,   0,   0,   0,\n",
              "          0,   0,   0,  59, 249, 254,  62,   0,   0,   0,   0,   0,   0,\n",
              "          0,   0],\n",
              "       [  0,   0,   0,   0,   0,   0,   0,   0,   0,   0,   0,   0,   0,\n",
              "          0,   0,   0, 133, 254, 187,   5,   0,   0,   0,   0,   0,   0,\n",
              "          0,   0],\n",
              "       [  0,   0,   0,   0,   0,   0,   0,   0,   0,   0,   0,   0,   0,\n",
              "          0,   0,   9, 205, 248,  58,   0,   0,   0,   0,   0,   0,   0,\n",
              "          0,   0],\n",
              "       [  0,   0,   0,   0,   0,   0,   0,   0,   0,   0,   0,   0,   0,\n",
              "          0,   0, 126, 254, 182,   0,   0,   0,   0,   0,   0,   0,   0,\n",
              "          0,   0],\n",
              "       [  0,   0,   0,   0,   0,   0,   0,   0,   0,   0,   0,   0,   0,\n",
              "          0,  75, 251, 240,  57,   0,   0,   0,   0,   0,   0,   0,   0,\n",
              "          0,   0],\n",
              "       [  0,   0,   0,   0,   0,   0,   0,   0,   0,   0,   0,   0,   0,\n",
              "         19, 221, 254, 166,   0,   0,   0,   0,   0,   0,   0,   0,   0,\n",
              "          0,   0],\n",
              "       [  0,   0,   0,   0,   0,   0,   0,   0,   0,   0,   0,   0,   3,\n",
              "        203, 254, 219,  35,   0,   0,   0,   0,   0,   0,   0,   0,   0,\n",
              "          0,   0],\n",
              "       [  0,   0,   0,   0,   0,   0,   0,   0,   0,   0,   0,   0,  38,\n",
              "        254, 254,  77,   0,   0,   0,   0,   0,   0,   0,   0,   0,   0,\n",
              "          0,   0],\n",
              "       [  0,   0,   0,   0,   0,   0,   0,   0,   0,   0,   0,  31, 224,\n",
              "        254, 115,   1,   0,   0,   0,   0,   0,   0,   0,   0,   0,   0,\n",
              "          0,   0],\n",
              "       [  0,   0,   0,   0,   0,   0,   0,   0,   0,   0,   0, 133, 254,\n",
              "        254,  52,   0,   0,   0,   0,   0,   0,   0,   0,   0,   0,   0,\n",
              "          0,   0],\n",
              "       [  0,   0,   0,   0,   0,   0,   0,   0,   0,   0,  61, 242, 254,\n",
              "        254,  52,   0,   0,   0,   0,   0,   0,   0,   0,   0,   0,   0,\n",
              "          0,   0],\n",
              "       [  0,   0,   0,   0,   0,   0,   0,   0,   0,   0, 121, 254, 254,\n",
              "        219,  40,   0,   0,   0,   0,   0,   0,   0,   0,   0,   0,   0,\n",
              "          0,   0],\n",
              "       [  0,   0,   0,   0,   0,   0,   0,   0,   0,   0, 121, 254, 207,\n",
              "         18,   0,   0,   0,   0,   0,   0,   0,   0,   0,   0,   0,   0,\n",
              "          0,   0],\n",
              "       [  0,   0,   0,   0,   0,   0,   0,   0,   0,   0,   0,   0,   0,\n",
              "          0,   0,   0,   0,   0,   0,   0,   0,   0,   0,   0,   0,   0,\n",
              "          0,   0]], dtype=uint8)"
            ]
          },
          "metadata": {},
          "execution_count": 53
        }
      ],
      "source": [
        "x_valid[0]"
      ]
    },
    {
      "cell_type": "markdown",
      "metadata": {
        "id": "fjDzLxzSqMtl"
      },
      "source": [
        "Preprocess Data"
      ]
    },
    {
      "cell_type": "code",
      "execution_count": null,
      "metadata": {
        "id": "G8Av9nzDqFS-"
      },
      "outputs": [],
      "source": [
        "x_train=x_train.reshape(60000,784).astype('float32')\n",
        "x_valid=x_valid.reshape(10000,784).astype('float32')"
      ]
    },
    {
      "cell_type": "code",
      "execution_count": null,
      "metadata": {
        "id": "L1IdpDxIrzgG"
      },
      "outputs": [],
      "source": [
        "x_train/=225\n",
        "x_valid/=225"
      ]
    },
    {
      "cell_type": "code",
      "execution_count": null,
      "metadata": {
        "colab": {
          "base_uri": "https://localhost:8080/"
        },
        "id": "RB6uxvdpr-Ge",
        "outputId": "6f27b967-f8ac-490b-df37-26abd42b0017"
      },
      "outputs": [
        {
          "output_type": "execute_result",
          "data": {
            "text/plain": [
              "array([0.        , 0.        , 0.        , 0.        , 0.        ,\n",
              "       0.        , 0.        , 0.        , 0.        , 0.        ,\n",
              "       0.        , 0.        , 0.        , 0.        , 0.        ,\n",
              "       0.        , 0.        , 0.        , 0.        , 0.        ,\n",
              "       0.        , 0.        , 0.        , 0.        , 0.        ,\n",
              "       0.        , 0.        , 0.        , 0.        , 0.        ,\n",
              "       0.        , 0.        , 0.        , 0.        , 0.        ,\n",
              "       0.        , 0.        , 0.        , 0.        , 0.        ,\n",
              "       0.        , 0.        , 0.        , 0.        , 0.        ,\n",
              "       0.        , 0.        , 0.        , 0.        , 0.        ,\n",
              "       0.        , 0.        , 0.        , 0.        , 0.        ,\n",
              "       0.        , 0.        , 0.        , 0.        , 0.        ,\n",
              "       0.        , 0.        , 0.        , 0.        , 0.        ,\n",
              "       0.        , 0.        , 0.        , 0.        , 0.        ,\n",
              "       0.        , 0.        , 0.        , 0.        , 0.        ,\n",
              "       0.        , 0.        , 0.        , 0.        , 0.        ,\n",
              "       0.        , 0.        , 0.        , 0.        , 0.        ,\n",
              "       0.        , 0.        , 0.        , 0.        , 0.        ,\n",
              "       0.        , 0.        , 0.        , 0.        , 0.        ,\n",
              "       0.        , 0.        , 0.        , 0.        , 0.        ,\n",
              "       0.        , 0.        , 0.        , 0.        , 0.        ,\n",
              "       0.        , 0.        , 0.        , 0.        , 0.        ,\n",
              "       0.        , 0.        , 0.        , 0.        , 0.        ,\n",
              "       0.        , 0.        , 0.        , 0.        , 0.        ,\n",
              "       0.        , 0.        , 0.        , 0.        , 0.        ,\n",
              "       0.        , 0.        , 0.        , 0.        , 0.        ,\n",
              "       0.        , 0.        , 0.        , 0.        , 0.        ,\n",
              "       0.        , 0.        , 0.        , 0.        , 0.        ,\n",
              "       0.        , 0.        , 0.        , 0.        , 0.        ,\n",
              "       0.        , 0.        , 0.        , 0.        , 0.        ,\n",
              "       0.        , 0.        , 0.        , 0.        , 0.        ,\n",
              "       0.        , 0.        , 0.        , 0.        , 0.        ,\n",
              "       0.        , 0.        , 0.        , 0.        , 0.        ,\n",
              "       0.        , 0.        , 0.        , 0.        , 0.        ,\n",
              "       0.        , 0.        , 0.        , 0.        , 0.        ,\n",
              "       0.        , 0.        , 0.        , 0.        , 0.        ,\n",
              "       0.        , 0.        , 0.        , 0.        , 0.        ,\n",
              "       0.        , 0.        , 0.        , 0.        , 0.        ,\n",
              "       0.        , 0.        , 0.        , 0.        , 0.        ,\n",
              "       0.        , 0.        , 0.        , 0.        , 0.        ,\n",
              "       0.        , 0.        , 0.37333333, 0.82222223, 0.70666665,\n",
              "       0.6711111 , 0.26666668, 0.16      , 0.        , 0.        ,\n",
              "       0.        , 0.        , 0.        , 0.        , 0.        ,\n",
              "       0.        , 0.        , 0.        , 0.        , 0.        ,\n",
              "       0.        , 0.        , 0.        , 0.        , 0.        ,\n",
              "       0.        , 0.        , 0.        , 0.        , 0.        ,\n",
              "       0.9866667 , 1.1288888 , 1.1288888 , 1.1288888 , 1.1288888 ,\n",
              "       1.0711111 , 0.88      , 0.88      , 0.88      , 0.88      ,\n",
              "       0.88      , 0.88      , 0.88      , 0.88      , 0.75555557,\n",
              "       0.23111111, 0.        , 0.        , 0.        , 0.        ,\n",
              "       0.        , 0.        , 0.        , 0.        , 0.        ,\n",
              "       0.        , 0.        , 0.        , 0.29777777, 0.50666666,\n",
              "       0.32      , 0.50666666, 0.72444445, 1.0088888 , 1.1288888 ,\n",
              "       1.        , 1.1288888 , 1.1288888 , 1.1288888 , 1.1111112 ,\n",
              "       1.0177778 , 1.1288888 , 1.1288888 , 0.62222224, 0.        ,\n",
              "       0.        , 0.        , 0.        , 0.        , 0.        ,\n",
              "       0.        , 0.        , 0.        , 0.        , 0.        ,\n",
              "       0.        , 0.        , 0.        , 0.        , 0.        ,\n",
              "       0.        , 0.07555556, 0.29333332, 0.06222222, 0.29777777,\n",
              "       0.29777777, 0.29777777, 0.26222223, 0.09333333, 1.0488889 ,\n",
              "       1.1288888 , 0.47111112, 0.        , 0.        , 0.        ,\n",
              "       0.        , 0.        , 0.        , 0.        , 0.        ,\n",
              "       0.        , 0.        , 0.        , 0.        , 0.        ,\n",
              "       0.        , 0.        , 0.        , 0.        , 0.        ,\n",
              "       0.        , 0.        , 0.        , 0.        , 0.        ,\n",
              "       0.        , 0.36888888, 1.1244445 , 0.9288889 , 0.08      ,\n",
              "       0.        , 0.        , 0.        , 0.        , 0.        ,\n",
              "       0.        , 0.        , 0.        , 0.        , 0.        ,\n",
              "       0.        , 0.        , 0.        , 0.        , 0.        ,\n",
              "       0.        , 0.        , 0.        , 0.        , 0.        ,\n",
              "       0.        , 0.        , 0.        , 0.09777778, 1.0355556 ,\n",
              "       1.1333333 , 0.36888888, 0.        , 0.        , 0.        ,\n",
              "       0.        , 0.        , 0.        , 0.        , 0.        ,\n",
              "       0.        , 0.        , 0.        , 0.        , 0.        ,\n",
              "       0.        , 0.        , 0.        , 0.        , 0.        ,\n",
              "       0.        , 0.        , 0.        , 0.        , 0.        ,\n",
              "       0.        , 0.5733333 , 1.1288888 , 1.0577778 , 0.19555555,\n",
              "       0.        , 0.        , 0.        , 0.        , 0.        ,\n",
              "       0.        , 0.        , 0.        , 0.        , 0.        ,\n",
              "       0.        , 0.        , 0.        , 0.        , 0.        ,\n",
              "       0.        , 0.        , 0.        , 0.        , 0.        ,\n",
              "       0.        , 0.        , 0.        , 0.26222223, 1.1066667 ,\n",
              "       1.1288888 , 0.27555555, 0.        , 0.        , 0.        ,\n",
              "       0.        , 0.        , 0.        , 0.        , 0.        ,\n",
              "       0.        , 0.        , 0.        , 0.        , 0.        ,\n",
              "       0.        , 0.        , 0.        , 0.        , 0.        ,\n",
              "       0.        , 0.        , 0.        , 0.        , 0.        ,\n",
              "       0.        , 0.5911111 , 1.1288888 , 0.83111113, 0.02222222,\n",
              "       0.        , 0.        , 0.        , 0.        , 0.        ,\n",
              "       0.        , 0.        , 0.        , 0.        , 0.        ,\n",
              "       0.        , 0.        , 0.        , 0.        , 0.        ,\n",
              "       0.        , 0.        , 0.        , 0.        , 0.        ,\n",
              "       0.        , 0.        , 0.        , 0.04      , 0.9111111 ,\n",
              "       1.1022222 , 0.25777778, 0.        , 0.        , 0.        ,\n",
              "       0.        , 0.        , 0.        , 0.        , 0.        ,\n",
              "       0.        , 0.        , 0.        , 0.        , 0.        ,\n",
              "       0.        , 0.        , 0.        , 0.        , 0.        ,\n",
              "       0.        , 0.        , 0.        , 0.        , 0.        ,\n",
              "       0.        , 0.56      , 1.1288888 , 0.8088889 , 0.        ,\n",
              "       0.        , 0.        , 0.        , 0.        , 0.        ,\n",
              "       0.        , 0.        , 0.        , 0.        , 0.        ,\n",
              "       0.        , 0.        , 0.        , 0.        , 0.        ,\n",
              "       0.        , 0.        , 0.        , 0.        , 0.        ,\n",
              "       0.        , 0.        , 0.        , 0.33333334, 1.1155555 ,\n",
              "       1.0666667 , 0.25333333, 0.        , 0.        , 0.        ,\n",
              "       0.        , 0.        , 0.        , 0.        , 0.        ,\n",
              "       0.        , 0.        , 0.        , 0.        , 0.        ,\n",
              "       0.        , 0.        , 0.        , 0.        , 0.        ,\n",
              "       0.        , 0.        , 0.        , 0.        , 0.        ,\n",
              "       0.08444444, 0.9822222 , 1.1288888 , 0.73777777, 0.        ,\n",
              "       0.        , 0.        , 0.        , 0.        , 0.        ,\n",
              "       0.        , 0.        , 0.        , 0.        , 0.        ,\n",
              "       0.        , 0.        , 0.        , 0.        , 0.        ,\n",
              "       0.        , 0.        , 0.        , 0.        , 0.        ,\n",
              "       0.        , 0.        , 0.01333333, 0.9022222 , 1.1288888 ,\n",
              "       0.97333336, 0.15555556, 0.        , 0.        , 0.        ,\n",
              "       0.        , 0.        , 0.        , 0.        , 0.        ,\n",
              "       0.        , 0.        , 0.        , 0.        , 0.        ,\n",
              "       0.        , 0.        , 0.        , 0.        , 0.        ,\n",
              "       0.        , 0.        , 0.        , 0.        , 0.        ,\n",
              "       0.16888888, 1.1288888 , 1.1288888 , 0.3422222 , 0.        ,\n",
              "       0.        , 0.        , 0.        , 0.        , 0.        ,\n",
              "       0.        , 0.        , 0.        , 0.        , 0.        ,\n",
              "       0.        , 0.        , 0.        , 0.        , 0.        ,\n",
              "       0.        , 0.        , 0.        , 0.        , 0.        ,\n",
              "       0.        , 0.        , 0.13777778, 0.9955556 , 1.1288888 ,\n",
              "       0.51111114, 0.00444444, 0.        , 0.        , 0.        ,\n",
              "       0.        , 0.        , 0.        , 0.        , 0.        ,\n",
              "       0.        , 0.        , 0.        , 0.        , 0.        ,\n",
              "       0.        , 0.        , 0.        , 0.        , 0.        ,\n",
              "       0.        , 0.        , 0.        , 0.        , 0.        ,\n",
              "       0.5911111 , 1.1288888 , 1.1288888 , 0.23111111, 0.        ,\n",
              "       0.        , 0.        , 0.        , 0.        , 0.        ,\n",
              "       0.        , 0.        , 0.        , 0.        , 0.        ,\n",
              "       0.        , 0.        , 0.        , 0.        , 0.        ,\n",
              "       0.        , 0.        , 0.        , 0.        , 0.        ,\n",
              "       0.        , 0.        , 0.2711111 , 1.0755556 , 1.1288888 ,\n",
              "       1.1288888 , 0.23111111, 0.        , 0.        , 0.        ,\n",
              "       0.        , 0.        , 0.        , 0.        , 0.        ,\n",
              "       0.        , 0.        , 0.        , 0.        , 0.        ,\n",
              "       0.        , 0.        , 0.        , 0.        , 0.        ,\n",
              "       0.        , 0.        , 0.        , 0.        , 0.        ,\n",
              "       0.5377778 , 1.1288888 , 1.1288888 , 0.97333336, 0.17777778,\n",
              "       0.        , 0.        , 0.        , 0.        , 0.        ,\n",
              "       0.        , 0.        , 0.        , 0.        , 0.        ,\n",
              "       0.        , 0.        , 0.        , 0.        , 0.        ,\n",
              "       0.        , 0.        , 0.        , 0.        , 0.        ,\n",
              "       0.        , 0.        , 0.        , 0.5377778 , 1.1288888 ,\n",
              "       0.92      , 0.08      , 0.        , 0.        , 0.        ,\n",
              "       0.        , 0.        , 0.        , 0.        , 0.        ,\n",
              "       0.        , 0.        , 0.        , 0.        , 0.        ,\n",
              "       0.        , 0.        , 0.        , 0.        , 0.        ,\n",
              "       0.        , 0.        , 0.        , 0.        , 0.        ,\n",
              "       0.        , 0.        , 0.        , 0.        , 0.        ,\n",
              "       0.        , 0.        , 0.        , 0.        , 0.        ,\n",
              "       0.        , 0.        , 0.        , 0.        , 0.        ,\n",
              "       0.        , 0.        , 0.        , 0.        ], dtype=float32)"
            ]
          },
          "metadata": {},
          "execution_count": 56
        }
      ],
      "source": [
        "x_valid[0]"
      ]
    },
    {
      "cell_type": "code",
      "execution_count": null,
      "metadata": {
        "id": "LDp3tvl-r6IV"
      },
      "outputs": [],
      "source": [
        "n_classes=10\n",
        "y_train=keras.utils.np_utils.to_categorical(y_train,n_classes)\n",
        "y_valid=keras.utils.np_utils.to_categorical(y_valid,n_classes)"
      ]
    },
    {
      "cell_type": "code",
      "execution_count": null,
      "metadata": {
        "colab": {
          "base_uri": "https://localhost:8080/"
        },
        "id": "RklFzvyxuhwe",
        "outputId": "7a098e79-88a2-4559-b79e-a8e1275b6a41"
      },
      "outputs": [
        {
          "output_type": "execute_result",
          "data": {
            "text/plain": [
              "array([0., 0., 0., 0., 0., 0., 0., 1., 0., 0.], dtype=float32)"
            ]
          },
          "metadata": {},
          "execution_count": 58
        }
      ],
      "source": [
        "y_valid[0]"
      ]
    },
    {
      "cell_type": "code",
      "execution_count": null,
      "metadata": {
        "id": "6TkyVUe74jaK"
      },
      "outputs": [],
      "source": [
        "model=Sequential()"
      ]
    },
    {
      "cell_type": "code",
      "execution_count": null,
      "metadata": {
        "id": "z3zVIMiCroFW"
      },
      "outputs": [],
      "source": [
        "model.add(Dense(64,activation='sigmoid',input_shape=(784,)))"
      ]
    },
    {
      "cell_type": "code",
      "execution_count": null,
      "metadata": {
        "id": "FFlsIiNp4rZz"
      },
      "outputs": [],
      "source": [
        "model.add(Dense(10,activation='softmax'))"
      ]
    },
    {
      "cell_type": "code",
      "execution_count": null,
      "metadata": {
        "colab": {
          "base_uri": "https://localhost:8080/"
        },
        "id": "yaJTxz0J81-H",
        "outputId": "e9879f47-79fc-45e3-dd21-7790aa84bafc"
      },
      "outputs": [
        {
          "output_type": "execute_result",
          "data": {
            "text/plain": [
              "50176"
            ]
          },
          "metadata": {},
          "execution_count": 62
        }
      ],
      "source": [
        "(64*784)"
      ]
    },
    {
      "cell_type": "code",
      "source": [
        "(64*784)+64"
      ],
      "metadata": {
        "colab": {
          "base_uri": "https://localhost:8080/"
        },
        "id": "c8fNqmEobY3q",
        "outputId": "f5a9e0b7-47ca-4171-b70d-83d2f23b54df"
      },
      "execution_count": null,
      "outputs": [
        {
          "output_type": "execute_result",
          "data": {
            "text/plain": [
              "50240"
            ]
          },
          "metadata": {},
          "execution_count": 63
        }
      ]
    },
    {
      "cell_type": "code",
      "source": [
        "(1064)+10+(64784)+64"
      ],
      "metadata": {
        "colab": {
          "base_uri": "https://localhost:8080/"
        },
        "id": "mJRdPfWObdyO",
        "outputId": "17abe12a-62d6-43eb-f932-afa7a705a9d6"
      },
      "execution_count": null,
      "outputs": [
        {
          "output_type": "execute_result",
          "data": {
            "text/plain": [
              "65922"
            ]
          },
          "metadata": {},
          "execution_count": 64
        }
      ]
    },
    {
      "cell_type": "code",
      "execution_count": null,
      "metadata": {
        "colab": {
          "base_uri": "https://localhost:8080/"
        },
        "id": "50Uzypkd415J",
        "outputId": "6075a843-28c4-46ff-cbab-323331fb037b"
      },
      "outputs": [
        {
          "output_type": "stream",
          "name": "stdout",
          "text": [
            "Model: \"sequential_1\"\n",
            "_________________________________________________________________\n",
            " Layer (type)                Output Shape              Param #   \n",
            "=================================================================\n",
            " dense_2 (Dense)             (None, 64)                50240     \n",
            "                                                                 \n",
            " dense_3 (Dense)             (None, 10)                650       \n",
            "                                                                 \n",
            "=================================================================\n",
            "Total params: 50,890\n",
            "Trainable params: 50,890\n",
            "Non-trainable params: 0\n",
            "_________________________________________________________________\n"
          ]
        }
      ],
      "source": [
        "model.summary()"
      ]
    },
    {
      "cell_type": "code",
      "execution_count": null,
      "metadata": {
        "id": "W1hLGNkV6d1Q"
      },
      "outputs": [],
      "source": [
        "\n",
        "model.compile(loss='mean_squared_error',optimizer=SGD(learning_rate=0.01),metrics=['accuracy'])"
      ]
    },
    {
      "cell_type": "code",
      "execution_count": null,
      "metadata": {
        "colab": {
          "base_uri": "https://localhost:8080/"
        },
        "id": "i5Uh0gkb5nTh",
        "outputId": "c676dce7-a99e-4354-fd6a-bac964562684"
      },
      "outputs": [
        {
          "output_type": "stream",
          "name": "stdout",
          "text": [
            "Epoch 1/70\n",
            "469/469 [==============================] - 2s 3ms/step - loss: 0.0914 - accuracy: 0.1494\n",
            "Epoch 2/70\n",
            "469/469 [==============================] - 1s 3ms/step - loss: 0.0904 - accuracy: 0.1734\n",
            "Epoch 3/70\n",
            "469/469 [==============================] - 1s 3ms/step - loss: 0.0898 - accuracy: 0.1940\n",
            "Epoch 4/70\n",
            "469/469 [==============================] - 1s 3ms/step - loss: 0.0893 - accuracy: 0.2078\n",
            "Epoch 5/70\n",
            "469/469 [==============================] - 1s 3ms/step - loss: 0.0888 - accuracy: 0.2171\n",
            "Epoch 6/70\n",
            "469/469 [==============================] - 1s 3ms/step - loss: 0.0884 - accuracy: 0.2254\n",
            "Epoch 7/70\n",
            "469/469 [==============================] - 1s 3ms/step - loss: 0.0881 - accuracy: 0.2392\n",
            "Epoch 8/70\n",
            "469/469 [==============================] - 1s 3ms/step - loss: 0.0877 - accuracy: 0.2559\n",
            "Epoch 9/70\n",
            "469/469 [==============================] - 1s 3ms/step - loss: 0.0873 - accuracy: 0.2732\n",
            "Epoch 10/70\n",
            "469/469 [==============================] - 1s 3ms/step - loss: 0.0870 - accuracy: 0.2913\n",
            "Epoch 11/70\n",
            "469/469 [==============================] - 1s 3ms/step - loss: 0.0866 - accuracy: 0.3092\n",
            "Epoch 12/70\n",
            "469/469 [==============================] - 1s 3ms/step - loss: 0.0863 - accuracy: 0.3266\n",
            "Epoch 13/70\n",
            "469/469 [==============================] - 1s 3ms/step - loss: 0.0859 - accuracy: 0.3405\n",
            "Epoch 14/70\n",
            "469/469 [==============================] - 1s 3ms/step - loss: 0.0855 - accuracy: 0.3529\n",
            "Epoch 15/70\n",
            "469/469 [==============================] - 1s 3ms/step - loss: 0.0851 - accuracy: 0.3627\n",
            "Epoch 16/70\n",
            "469/469 [==============================] - 1s 3ms/step - loss: 0.0847 - accuracy: 0.3711\n",
            "Epoch 17/70\n",
            "469/469 [==============================] - 1s 3ms/step - loss: 0.0843 - accuracy: 0.3797\n",
            "Epoch 18/70\n",
            "469/469 [==============================] - 1s 3ms/step - loss: 0.0839 - accuracy: 0.3871\n",
            "Epoch 19/70\n",
            "469/469 [==============================] - 1s 3ms/step - loss: 0.0834 - accuracy: 0.3934\n",
            "Epoch 20/70\n",
            "469/469 [==============================] - 1s 3ms/step - loss: 0.0830 - accuracy: 0.4013\n",
            "Epoch 21/70\n",
            "469/469 [==============================] - 1s 3ms/step - loss: 0.0825 - accuracy: 0.4064\n",
            "Epoch 22/70\n",
            "469/469 [==============================] - 1s 3ms/step - loss: 0.0821 - accuracy: 0.4116\n",
            "Epoch 23/70\n",
            "469/469 [==============================] - 1s 3ms/step - loss: 0.0816 - accuracy: 0.4180\n",
            "Epoch 24/70\n",
            "469/469 [==============================] - 1s 3ms/step - loss: 0.0811 - accuracy: 0.4239\n",
            "Epoch 25/70\n",
            "469/469 [==============================] - 1s 3ms/step - loss: 0.0806 - accuracy: 0.4287\n",
            "Epoch 26/70\n",
            "469/469 [==============================] - 1s 3ms/step - loss: 0.0801 - accuracy: 0.4355\n",
            "Epoch 27/70\n",
            "469/469 [==============================] - 1s 3ms/step - loss: 0.0796 - accuracy: 0.4417\n",
            "Epoch 28/70\n",
            "469/469 [==============================] - 1s 3ms/step - loss: 0.0791 - accuracy: 0.4483\n",
            "Epoch 29/70\n",
            "469/469 [==============================] - 1s 3ms/step - loss: 0.0786 - accuracy: 0.4552\n",
            "Epoch 30/70\n",
            "469/469 [==============================] - 1s 3ms/step - loss: 0.0780 - accuracy: 0.4624\n",
            "Epoch 31/70\n",
            "469/469 [==============================] - 1s 3ms/step - loss: 0.0775 - accuracy: 0.4692\n",
            "Epoch 32/70\n",
            "469/469 [==============================] - 1s 3ms/step - loss: 0.0770 - accuracy: 0.4754\n",
            "Epoch 33/70\n",
            "469/469 [==============================] - 1s 3ms/step - loss: 0.0764 - accuracy: 0.4828\n",
            "Epoch 34/70\n",
            "469/469 [==============================] - 1s 3ms/step - loss: 0.0759 - accuracy: 0.4906\n",
            "Epoch 35/70\n",
            "469/469 [==============================] - 1s 3ms/step - loss: 0.0753 - accuracy: 0.4972\n",
            "Epoch 36/70\n",
            "469/469 [==============================] - 1s 3ms/step - loss: 0.0748 - accuracy: 0.5038\n",
            "Epoch 37/70\n",
            "469/469 [==============================] - 1s 3ms/step - loss: 0.0742 - accuracy: 0.5096\n",
            "Epoch 38/70\n",
            "469/469 [==============================] - 1s 3ms/step - loss: 0.0737 - accuracy: 0.5164\n",
            "Epoch 39/70\n",
            "469/469 [==============================] - 1s 3ms/step - loss: 0.0731 - accuracy: 0.5235\n",
            "Epoch 40/70\n",
            "469/469 [==============================] - 1s 3ms/step - loss: 0.0726 - accuracy: 0.5293\n",
            "Epoch 41/70\n",
            "469/469 [==============================] - 1s 3ms/step - loss: 0.0720 - accuracy: 0.5360\n",
            "Epoch 42/70\n",
            "469/469 [==============================] - 1s 3ms/step - loss: 0.0715 - accuracy: 0.5412\n",
            "Epoch 43/70\n",
            "469/469 [==============================] - 1s 3ms/step - loss: 0.0709 - accuracy: 0.5460\n",
            "Epoch 44/70\n",
            "469/469 [==============================] - 1s 3ms/step - loss: 0.0704 - accuracy: 0.5514\n",
            "Epoch 45/70\n",
            "469/469 [==============================] - 1s 3ms/step - loss: 0.0698 - accuracy: 0.5563\n",
            "Epoch 46/70\n",
            "469/469 [==============================] - 2s 4ms/step - loss: 0.0693 - accuracy: 0.5614\n",
            "Epoch 47/70\n",
            "469/469 [==============================] - 2s 4ms/step - loss: 0.0687 - accuracy: 0.5660\n",
            "Epoch 48/70\n",
            "469/469 [==============================] - 2s 4ms/step - loss: 0.0682 - accuracy: 0.5709\n",
            "Epoch 49/70\n",
            "469/469 [==============================] - 2s 4ms/step - loss: 0.0676 - accuracy: 0.5748\n",
            "Epoch 50/70\n",
            "469/469 [==============================] - 2s 4ms/step - loss: 0.0671 - accuracy: 0.5793\n",
            "Epoch 51/70\n",
            "469/469 [==============================] - 2s 4ms/step - loss: 0.0666 - accuracy: 0.5828\n",
            "Epoch 52/70\n",
            "469/469 [==============================] - 1s 3ms/step - loss: 0.0660 - accuracy: 0.5869\n",
            "Epoch 53/70\n",
            "469/469 [==============================] - 1s 3ms/step - loss: 0.0655 - accuracy: 0.5899\n",
            "Epoch 54/70\n",
            "469/469 [==============================] - 1s 3ms/step - loss: 0.0650 - accuracy: 0.5935\n",
            "Epoch 55/70\n",
            "469/469 [==============================] - 1s 3ms/step - loss: 0.0644 - accuracy: 0.5967\n",
            "Epoch 56/70\n",
            "469/469 [==============================] - 1s 3ms/step - loss: 0.0639 - accuracy: 0.5990\n",
            "Epoch 57/70\n",
            "469/469 [==============================] - 1s 3ms/step - loss: 0.0634 - accuracy: 0.6026\n",
            "Epoch 58/70\n",
            "469/469 [==============================] - 1s 3ms/step - loss: 0.0629 - accuracy: 0.6054\n",
            "Epoch 59/70\n",
            "469/469 [==============================] - 1s 3ms/step - loss: 0.0624 - accuracy: 0.6077\n",
            "Epoch 60/70\n",
            "469/469 [==============================] - 1s 3ms/step - loss: 0.0619 - accuracy: 0.6106\n",
            "Epoch 61/70\n",
            "469/469 [==============================] - 1s 3ms/step - loss: 0.0614 - accuracy: 0.6128\n",
            "Epoch 62/70\n",
            "469/469 [==============================] - 1s 3ms/step - loss: 0.0609 - accuracy: 0.6150\n",
            "Epoch 63/70\n",
            "469/469 [==============================] - 1s 3ms/step - loss: 0.0604 - accuracy: 0.6174\n",
            "Epoch 64/70\n",
            "469/469 [==============================] - 1s 3ms/step - loss: 0.0599 - accuracy: 0.6191\n",
            "Epoch 65/70\n",
            "469/469 [==============================] - 1s 3ms/step - loss: 0.0595 - accuracy: 0.6211\n",
            "Epoch 66/70\n",
            "469/469 [==============================] - 1s 3ms/step - loss: 0.0590 - accuracy: 0.6233\n",
            "Epoch 67/70\n",
            "469/469 [==============================] - 1s 3ms/step - loss: 0.0585 - accuracy: 0.6255\n",
            "Epoch 68/70\n",
            "469/469 [==============================] - 1s 3ms/step - loss: 0.0581 - accuracy: 0.6275\n",
            "Epoch 69/70\n",
            "469/469 [==============================] - 1s 3ms/step - loss: 0.0576 - accuracy: 0.6292\n",
            "Epoch 70/70\n",
            "469/469 [==============================] - 1s 3ms/step - loss: 0.0572 - accuracy: 0.6311\n"
          ]
        }
      ],
      "source": [
        "history=model.fit(x_train, y_train, batch_size=128, epochs=70, verbose=1)"
      ]
    },
    {
      "cell_type": "code",
      "execution_count": null,
      "metadata": {
        "colab": {
          "base_uri": "https://localhost:8080/",
          "height": 229
        },
        "id": "wuZQV7y_5j-U",
        "outputId": "1ac6161a-f98d-4421-96aa-a6488df9e55b"
      },
      "outputs": [
        {
          "output_type": "display_data",
          "data": {
            "image/png": "[encoded data removed]",
            "text/plain": [
              "<Figure size 432x288 with 1 Axes>"
            ]
          },
          "metadata": {
            "needs_background": "light"
          }
        }
      ],
      "source": [
        "plt.plot(history.history['accuracy'])\n",
        "plt.title('model accuracy')\n",
        "plt.ylabel('accuracy')\n",
        "plt.xlabel('epoch')\n",
        "plt.show()"
      ]
    },
    {
      "cell_type": "code",
      "execution_count": null,
      "metadata": {
        "colab": {
          "base_uri": "https://localhost:8080/",
          "height": 223
        },
        "id": "8H6uq59a_PiI",
        "outputId": "48c5b99e-01da-4dd0-eb00-00196037e386"
      },
      "outputs": [
        {
          "output_type": "display_data",
          "data": {
            "image/png": "[encoded data removed]",
            "text/plain": [
              "<Figure size 432x288 with 1 Axes>"
            ]
          },
          "metadata": {
            "needs_background": "light"
          }
        }
      ],
      "source": [
        "plt.plot(history.history['loss'])\n",
        "plt.title('model accuracy')\n",
        "plt.ylabel('loss')\n",
        "plt.xlabel('echo')\n",
        "plt.show()"
      ]
    }
  ],
  "metadata": {
    "colab": {
      "collapsed_sections": [],
      "name": "feedforwardNetwork.ipynb",
      "provenance": []
    },
    "kernelspec": {
      "display_name": "Python 3",
      "name": "python3"
    },
    "language_info": {
      "name": "python"
    }
  },
  "nbformat": 4,
  "nbformat_minor": 0
}