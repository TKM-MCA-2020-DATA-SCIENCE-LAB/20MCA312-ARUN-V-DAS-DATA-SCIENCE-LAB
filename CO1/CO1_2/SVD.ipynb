{
  "nbformat": 4,
  "nbformat_minor": 0,
  "metadata": {
    "colab": {
      "name": "SVD.ipynb",
      "provenance": [],
      "collapsed_sections": []
    },
    "kernelspec": {
      "name": "python3",
      "display_name": "Python 3"
    },
    "language_info": {
      "name": "python"
    }
  },
  "cells": [
    {
      "cell_type": "markdown",
      "source": [
        "2.Matrix operations (using vectorization) and transformation using python and SVD \n",
        "using Python."
      ],
      "metadata": {
        "id": "bKTJFOfmt3j5"
      }
    },
    {
      "cell_type": "markdown",
      "metadata": {
        "id": "3KCniRu4pW2O"
      },
      "source": [
        "Singular Value Decomposition"
      ]
    },
    {
      "cell_type": "code",
      "metadata": {
        "id": "eh0xbFPOozqv"
      },
      "source": [
        "import numpy as np"
      ],
      "execution_count": 1,
      "outputs": []
    },
    {
      "cell_type": "code",
      "metadata": {
        "id": "sWBnnKovo6Jc"
      },
      "source": [
        "from numpy.linalg import svd"
      ],
      "execution_count": 2,
      "outputs": []
    },
    {
      "cell_type": "code",
      "source": [
        "A = np.array([[1,2,3], [4,5,6], [5,7,9]])\n",
        "\n",
        "U, S, VT = svd(A)\n",
        "print(\"Left Singular Vectors:\")\n",
        "print(U)\n",
        "print(\"Singular Values:\") \n",
        "print(np.diag(S))\n",
        "print(\"Right Singular Vectors:\") \n",
        "print(VT)"
      ],
      "metadata": {
        "colab": {
          "base_uri": "https://localhost:8080/"
        },
        "id": "LV5mCN4ywUqe",
        "outputId": "fbe2959a-4005-4172-be5e-a28757981a42"
      },
      "execution_count": 3,
      "outputs": [
        {
          "output_type": "stream",
          "name": "stdout",
          "text": [
            "Left Singular Vectors:\n",
            "[[-0.2354116   0.78182354 -0.57735027]\n",
            " [-0.55937325 -0.5947842  -0.57735027]\n",
            " [-0.79478485  0.18703934  0.57735027]]\n",
            "Singular Values:\n",
            "[[1.56633231e+01 0.00000000e+00 0.00000000e+00]\n",
            " [0.00000000e+00 8.12593979e-01 0.00000000e+00]\n",
            " [0.00000000e+00 0.00000000e+00 1.13716384e-15]]\n",
            "Right Singular Vectors:\n",
            "[[-0.41158755 -0.56381288 -0.71603821]\n",
            " [-0.8148184  -0.12429146  0.56623547]\n",
            " [-0.40824829  0.81649658 -0.40824829]]\n"
          ]
        }
      ]
    },
    {
      "cell_type": "code",
      "source": [
        "print(U @ np.diag(S) @ VT)"
      ],
      "metadata": {
        "colab": {
          "base_uri": "https://localhost:8080/"
        },
        "id": "xUCu0Z_jwW2c",
        "outputId": "ca104bae-2ffe-46a2-ae9e-3734c745fa71"
      },
      "execution_count": 4,
      "outputs": [
        {
          "output_type": "stream",
          "name": "stdout",
          "text": [
            "[[1. 2. 3.]\n",
            " [4. 5. 6.]\n",
            " [5. 7. 9.]]\n"
          ]
        }
      ]
    },
    {
      "cell_type": "markdown",
      "source": [
        "**SVD**\n",
        "\n",
        "\n",
        "* Sklearn Truncated SVD - This is used for dimensional reduction directly\n",
        "\n",
        "\n"
      ],
      "metadata": {
        "id": "25fIZSsqwmJY"
      }
    },
    {
      "cell_type": "code",
      "source": [
        "from sklearn.decomposition import TruncatedSVD\n",
        "A = np.array([[1,2,3], [4,5,6], [5,7,9]])\n",
        "print(\"Original Matrix:\")\n",
        "A"
      ],
      "metadata": {
        "colab": {
          "base_uri": "https://localhost:8080/"
        },
        "id": "4q4LqxSfwfz9",
        "outputId": "fb79cdcb-0fe4-41b6-b8d9-e882c6d919a9"
      },
      "execution_count": 8,
      "outputs": [
        {
          "output_type": "stream",
          "name": "stdout",
          "text": [
            "Original Matrix:\n"
          ]
        },
        {
          "output_type": "execute_result",
          "data": {
            "text/plain": [
              "array([[1, 2, 3],\n",
              "       [4, 5, 6],\n",
              "       [5, 7, 9]])"
            ]
          },
          "metadata": {},
          "execution_count": 8
        }
      ]
    },
    {
      "cell_type": "code",
      "source": [
        "svd =  TruncatedSVD(n_components = 2)  # reduce to 2 features\n",
        "A_transf = svd.fit_transform(A)\n",
        "\n",
        "print(\"Singular values:\")\n",
        "print(svd.singular_values_)\n",
        "print()"
      ],
      "metadata": {
        "colab": {
          "base_uri": "https://localhost:8080/"
        },
        "id": "GQ6cD9U6xRdz",
        "outputId": "ec6832e2-3bba-40ac-eadd-05ec3987bd27"
      },
      "execution_count": 9,
      "outputs": [
        {
          "output_type": "stream",
          "name": "stdout",
          "text": [
            "Singular values:\n",
            "[15.66332312  0.81259398]\n",
            "\n"
          ]
        }
      ]
    },
    {
      "cell_type": "code",
      "source": [
        "print(\"Transformed Matrix after reducing to 2 features:\")\n",
        "print(A_transf)"
      ],
      "metadata": {
        "colab": {
          "base_uri": "https://localhost:8080/"
        },
        "id": "gBCr5yXNw7ge",
        "outputId": "fb617f86-97b4-42e0-9332-de60ad9e5892"
      },
      "execution_count": 10,
      "outputs": [
        {
          "output_type": "stream",
          "name": "stdout",
          "text": [
            "Transformed Matrix after reducing to 2 features:\n",
            "[[ 3.68732795  0.6353051 ]\n",
            " [ 8.76164389 -0.48331806]\n",
            " [12.44897184  0.15198704]]\n"
          ]
        }
      ]
    },
    {
      "cell_type": "code",
      "source": [
        ""
      ],
      "metadata": {
        "id": "uu_ZNAV_wrfO"
      },
      "execution_count": null,
      "outputs": []
    }
  ]
}